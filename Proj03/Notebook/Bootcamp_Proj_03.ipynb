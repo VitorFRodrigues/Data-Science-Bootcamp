{
  "nbformat": 4,
  "nbformat_minor": 0,
  "metadata": {
    "colab": {
      "name": "Bootcamp_Proj_03.ipynb",
      "provenance": [],
      "authorship_tag": "ABX9TyMaj/U7/p9gCxJlzxNLLfsm",
      "include_colab_link": true
    },
    "kernelspec": {
      "name": "python3",
      "display_name": "Python 3"
    },
    "language_info": {
      "name": "python"
    }
  },
  "cells": [
    {
      "cell_type": "markdown",
      "metadata": {
        "id": "view-in-github",
        "colab_type": "text"
      },
      "source": [
        "<a href=\"https://colab.research.google.com/github/VitorFRodrigues/Data-Science-Bootcamp/blob/main/Proj03/Notebook/Bootcamp_Proj_03.ipynb\" target=\"_parent\"><img src=\"https://colab.research.google.com/assets/colab-badge.svg\" alt=\"Open In Colab\"/></a>"
      ]
    },
    {
      "cell_type": "code",
      "source": [
        "url='https://github.com/VitorFRodrigues/Data-Science-Bootcamp/blob/main/Proj03/dados/caso.csv.gz?raw=true'"
      ],
      "metadata": {
        "id": "n_z4VZsSNjMH"
      },
      "execution_count": null,
      "outputs": []
    },
    {
      "cell_type": "code",
      "execution_count": null,
      "metadata": {
        "id": "J5CPSBe_LNUW"
      },
      "outputs": [],
      "source": [
        "a=2"
      ]
    },
    {
      "cell_type": "code",
      "source": [
        ""
      ],
      "metadata": {
        "id": "S0AGzQ0qLzfI"
      },
      "execution_count": null,
      "outputs": []
    }
  ]
}