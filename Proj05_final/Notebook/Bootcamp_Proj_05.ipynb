{
  "nbformat": 4,
  "nbformat_minor": 0,
  "metadata": {
    "colab": {
      "name": "Bootcamp Proj-05.ipynb",
      "provenance": [],
      "authorship_tag": "ABX9TyNHFXNO3BjMAmHml23UCmaT",
      "include_colab_link": true
    },
    "kernelspec": {
      "name": "python3",
      "display_name": "Python 3"
    },
    "language_info": {
      "name": "python"
    }
  },
  "cells": [
    {
      "cell_type": "markdown",
      "metadata": {
        "id": "view-in-github",
        "colab_type": "text"
      },
      "source": [
        "<a href=\"https://colab.research.google.com/github/VitorFRodrigues/Data-Science-Bootcamp/blob/main/Proj05_final/Notebook/Bootcamp_Proj_05.ipynb\" target=\"_parent\"><img src=\"https://colab.research.google.com/assets/colab-badge.svg\" alt=\"Open In Colab\"/></a>"
      ]
    },
    {
      "cell_type": "markdown",
      "source": [
        "# Projeto Módulo 5 do Bootcamp Data Science 3 - Criação de modelo preditivo para decisão de paciente se encontra apto ou não para ingressar na UTI\n",
        "---\n",
        "Autor: Vitor Rodrigues\n",
        "\n",
        "e-mail: vitorfbaiano@gmail.com\n",
        "\n",
        "---"
      ],
      "metadata": {
        "id": "c1kYWER1Cr2q"
      }
    },
    {
      "cell_type": "markdown",
      "source": [
        "## 1.Introdução"
      ],
      "metadata": {
        "id": "tIuDqcAnQhuI"
      }
    },
    {
      "cell_type": "markdown",
      "source": [
        "Explicar um pouco sobre o problema proposto, a quantidade de dados coletado pelo Sirio Libanes, como e onde estes dados são encontrados."
      ],
      "metadata": {
        "id": "U4RGpZ5DRMtS"
      }
    },
    {
      "cell_type": "markdown",
      "source": [
        "## 2.Objetivos"
      ],
      "metadata": {
        "id": "bQCA8HuXRlUC"
      }
    },
    {
      "cell_type": "markdown",
      "source": [
        "Considerando o que foi explanado na introdução, este projeto tem como objetivo a criação de um modelo decisório para ingresso de pacientes na UTI dados certas variárieis. Para isto, serão realizados os seguintes passos:\n",
        "\n",
        "- Importação dos dados do Sirio Libanês;\n",
        "- Realização de limpeza dos dados;\n",
        "- Criação de 5 modelos preditivos;\n",
        "- Alteração de hiperparametros para atingir melhor acurácia em cada modelo;\n",
        "- Remover informações correlacionadas que dificultem o poder decisório de cada modelo;\n",
        "- Aplicar os modelos em novo banco de dados para buscar melhor acurácia;\n",
        "- Apurar modelo preditivo e salva-lo;"
      ],
      "metadata": {
        "id": "dBmdGvrnRuVw"
      }
    },
    {
      "cell_type": "markdown",
      "source": [
        "Tipos principais de modelos preditivos:\n",
        "\n",
        "\n",
        "*   Classificação: escolha booleana (Verdadeiro ou Falso)\n",
        "*   Regressão: previsão dentro de um intervalo ]-inf,+inf[ \n",
        "\n"
      ],
      "metadata": {
        "id": "zqKuVrg--ppv"
      }
    },
    {
      "cell_type": "markdown",
      "source": [
        "## 3.Preparação dos dados"
      ],
      "metadata": {
        "id": "3M2REUlXT-Qz"
      }
    },
    {
      "cell_type": "code",
      "execution_count": null,
      "metadata": {
        "id": "glGlXKiUCZE9"
      },
      "outputs": [],
      "source": [
        ""
      ]
    }
  ]
}