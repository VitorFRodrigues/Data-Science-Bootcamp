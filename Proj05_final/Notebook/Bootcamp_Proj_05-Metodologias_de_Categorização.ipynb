{
  "nbformat": 4,
  "nbformat_minor": 0,
  "metadata": {
    "colab": {
      "name": "Bootcamp Proj-05.ipynb",
      "provenance": [],
      "authorship_tag": "ABX9TyPeI3GO79xnC4FIcy8b95Oc",
      "include_colab_link": true
    },
    "kernelspec": {
      "name": "python3",
      "display_name": "Python 3"
    },
    "language_info": {
      "name": "python"
    }
  },
  "cells": [
    {
      "cell_type": "markdown",
      "metadata": {
        "id": "view-in-github",
        "colab_type": "text"
      },
      "source": [
        "<a href=\"https://colab.research.google.com/github/VitorFRodrigues/Data-Science-Bootcamp/blob/main/Proj05_final/Notebook/Bootcamp_Proj_05.ipynb\" target=\"_parent\"><img src=\"https://colab.research.google.com/assets/colab-badge.svg\" alt=\"Open In Colab\"/></a>"
      ]
    },
    {
      "cell_type": "markdown",
      "source": [
        "# Projeto Módulo 5 do Bootcamp Data Science 3 - Criação de modelo preditivo para decisão de paciente UTI\n",
        "---\n",
        "Autor: Vitor Rodrigues\n",
        "\n",
        "e-mail: vitorfbaiano@gmail.com\n",
        "\n",
        "---"
      ],
      "metadata": {
        "id": "c1kYWER1Cr2q"
      }
    },
    {
      "cell_type": "code",
      "execution_count": null,
      "metadata": {
        "id": "glGlXKiUCZE9"
      },
      "outputs": [],
      "source": [
        ""
      ]
    }
  ]
}